{
  "nbformat": 4,
  "nbformat_minor": 0,
  "metadata": {
    "colab": {
      "provenance": [],
      "collapsed_sections": [],
      "authorship_tag": "ABX9TyMjiB312V91ZqH7W1ps9CSX",
      "include_colab_link": true
    },
    "kernelspec": {
      "name": "python3",
      "display_name": "Python 3"
    },
    "language_info": {
      "name": "python"
    }
  },
  "cells": [
    {
      "cell_type": "markdown",
      "metadata": {
        "id": "view-in-github",
        "colab_type": "text"
      },
      "source": [
        "<a href=\"https://colab.research.google.com/github/CS65-654234013/CProgram/blob/main/data.ipynb\" target=\"_parent\"><img src=\"https://colab.research.google.com/assets/colab-badge.svg\" alt=\"Open In Colab\"/></a>"
      ]
    },
    {
      "cell_type": "code",
      "execution_count": 5,
      "metadata": {
        "colab": {
          "base_uri": "https://localhost:8080/"
        },
        "id": "JfdCt_tX_DPi",
        "outputId": "20043403-fb92-453e-8f8c-a512f4688563"
      },
      "outputs": [
        {
          "output_type": "stream",
          "name": "stdout",
          "text": [
            "Java & Pyton\n"
          ]
        }
      ],
      "source": [
        "langList=[\"Pyton\",\"Visual Basic\",\"C#\",\"Java\"]\n"
      ]
    },
    {
      "cell_type": "code",
      "source": [
        "subList=[\"Pyton\",\"programming\",\"Languag\",[\"This is \",\"a subList\"]]\n"
      ],
      "metadata": {
        "colab": {
          "base_uri": "https://localhost:8080/"
        },
        "id": "riDzGPfm_H0g",
        "outputId": "a9bb0588-1955-4043-9898-5eaf72e37e80"
      },
      "execution_count": 8,
      "outputs": [
        {
          "output_type": "stream",
          "name": "stdout",
          "text": [
            "This is  Pyton programming Languag\n"
          ]
        }
      ]
    },
    {
      "cell_type": "code",
      "source": [
        "mixList=(1,2,3,\"four\",5)"
      ],
      "metadata": {
        "id": "T2GxWmRdB_L-"
      },
      "execution_count": 14,
      "outputs": []
    },
    {
      "cell_type": "code",
      "source": [
        " yearList = [2550, 2551, 2552, 2553, 2554]"
      ],
      "metadata": {
        "id": "Vi8HqZQVCgn9"
      },
      "execution_count": 15,
      "outputs": []
    },
    {
      "cell_type": "code",
      "source": [
        "listList=[yearList,langList,mixList,subList]\n",
        "print(langList[3],subList[1],subList[2],\"created in\",yearList[2])\n",
        "print(listList[1][-1],listList[-1][1],listList[-1][2],\"created in \",listList[0][2])"
      ],
      "metadata": {
        "colab": {
          "base_uri": "https://localhost:8080/"
        },
        "id": "d65UEwLICgjV",
        "outputId": "57917fc3-d808-4ec2-ae30-2e3b958f9b29"
      },
      "execution_count": 33,
      "outputs": [
        {
          "output_type": "stream",
          "name": "stdout",
          "text": [
            "Java programming Languag created in 2552\n",
            "Java programming Languag created in  2552\n"
          ]
        }
      ]
    },
    {
      "cell_type": "code",
      "source": [
        " yearList = [2550, 2551, 2552, 2553, 2554]\n",
        "total = 0\n",
        "for i in yearList:\n",
        "  total=total+i\n",
        "amout=len(yearList)\n",
        "print(total)\n",
        "average = total/amout\n",
        "print(average)"
      ],
      "metadata": {
        "colab": {
          "base_uri": "https://localhost:8080/"
        },
        "id": "fTz4ASmOG-le",
        "outputId": "f6694150-49e3-477c-f470-2d40d29d99a0"
      },
      "execution_count": 38,
      "outputs": [
        {
          "output_type": "stream",
          "name": "stdout",
          "text": [
            "12760\n",
            "2552.0\n"
          ]
        }
      ]
    },
    {
      "cell_type": "code",
      "source": [
        "list1 = [2549, 2550, 2551, 2552]\n",
        "list2 = [2553, 2554]\n",
        "list1.append(2000)  \n",
        "print(list1)\n",
        "list2.insert(0,\"Y2K\")\n",
        "print(list2)"
      ],
      "metadata": {
        "colab": {
          "base_uri": "https://localhost:8080/"
        },
        "id": "2ni4YLQ6CgvV",
        "outputId": "4127d3c6-5571-440a-aa21-4b636cbaee5b"
      },
      "execution_count": 51,
      "outputs": [
        {
          "output_type": "stream",
          "name": "stdout",
          "text": [
            "[2549, 2550, 2551, 2552, 2000]\n",
            "['Y2K', 2553, 2554]\n"
          ]
        }
      ]
    },
    {
      "cell_type": "code",
      "source": [
        "\n",
        "print(list1)\n"
      ],
      "metadata": {
        "colab": {
          "base_uri": "https://localhost:8080/"
        },
        "id": "bf7MpMJYO7Fr",
        "outputId": "da5cb93c-d82f-40a8-f429-4a108f50fc35"
      },
      "execution_count": 79,
      "outputs": [
        {
          "output_type": "stream",
          "name": "stdout",
          "text": [
            "[2551, 2552, 2554, 2554, 2554, 2553, 2554, 2553, 2554]\n"
          ]
        }
      ]
    },
    {
      "cell_type": "code",
      "source": [
        "list1.remove('Y2K')"
      ],
      "metadata": {
        "id": "RneFPGwiPdOb"
      },
      "execution_count": 78,
      "outputs": []
    }
  ]
}